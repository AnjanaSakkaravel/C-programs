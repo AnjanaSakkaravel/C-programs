{
  "nbformat": 4,
  "nbformat_minor": 0,
  "metadata": {
    "colab": {
      "provenance": [],
      "collapsed_sections": [],
      "authorship_tag": "ABX9TyMY2L8eC2YeE5guoQgmOlz1",
      "include_colab_link": true
    },
    "kernelspec": {
      "name": "python3",
      "display_name": "Python 3"
    },
    "language_info": {
      "name": "python"
    }
  },
  "cells": [
    {
      "cell_type": "markdown",
      "metadata": {
        "id": "view-in-github",
        "colab_type": "text"
      },
      "source": [
        "<a href=\"https://colab.research.google.com/github/AnjanaSakkaravel/C-programs/blob/main/assignment3.ipynb\" target=\"_parent\"><img src=\"https://colab.research.google.com/assets/colab-badge.svg\" alt=\"Open In Colab\"/></a>"
      ]
    },
    {
      "cell_type": "markdown",
      "source": [
        "What is 7 to the power of 4?"
      ],
      "metadata": {
        "id": "Lc4cmtyP41Ob"
      }
    },
    {
      "cell_type": "code",
      "source": [
        "print(7**4)"
      ],
      "metadata": {
        "colab": {
          "base_uri": "https://localhost:8080/"
        },
        "id": "eVInr8gpbLyu",
        "outputId": "e63c301c-1a70-4727-a7b7-eed2216ec371"
      },
      "execution_count": 42,
      "outputs": [
        {
          "output_type": "stream",
          "name": "stdout",
          "text": [
            "2401\n"
          ]
        }
      ]
    },
    {
      "cell_type": "markdown",
      "source": [
        "Split this string: \n",
        "s = \"Hi there Sam!\" "
      ],
      "metadata": {
        "id": "ZD5-VXSy49HA"
      }
    },
    {
      "cell_type": "code",
      "source": [
        "s=\" Hi there Sam\""
      ],
      "metadata": {
        "id": "O51HeJEWbSf_"
      },
      "execution_count": 3,
      "outputs": []
    },
    {
      "cell_type": "code",
      "source": [
        "print(s.split())"
      ],
      "metadata": {
        "colab": {
          "base_uri": "https://localhost:8080/"
        },
        "id": "g2YRNZlJ1rTL",
        "outputId": "ee9e2f59-cc2f-4376-a8da-f376acda2b17"
      },
      "execution_count": 4,
      "outputs": [
        {
          "output_type": "stream",
          "name": "stdout",
          "text": [
            "['Hi', 'there', 'Sam']\n"
          ]
        }
      ]
    },
    {
      "cell_type": "markdown",
      "source": [
        "Given the variables: \n",
        "planet = \"Earth\" \n",
        "diameter = 12742 \n",
        "Use .format() to print the following string: \n",
        "The diameter of Earth is 12742 kilometers. \n"
      ],
      "metadata": {
        "id": "ItiJJ5hR5Bdb"
      }
    },
    {
      "cell_type": "code",
      "source": [
        "planet=\"Earth\"\n",
        "diameter=12742"
      ],
      "metadata": {
        "id": "Jzfc3qse1s1k"
      },
      "execution_count": 5,
      "outputs": []
    },
    {
      "cell_type": "code",
      "source": [
        "print(\"The diameter of {planet} is {diameter} km.\".format(planet=planet,diameter=diameter))"
      ],
      "metadata": {
        "colab": {
          "base_uri": "https://localhost:8080/"
        },
        "id": "MCtaTEYI1w6d",
        "outputId": "fe3f7a8e-0618-4b29-aa45-cdebe04e8c8f"
      },
      "execution_count": 7,
      "outputs": [
        {
          "output_type": "stream",
          "name": "stdout",
          "text": [
            "The diameter of Earth is 12742 km.\n"
          ]
        }
      ]
    },
    {
      "cell_type": "markdown",
      "source": [
        "Given this nested list, use indexing to grab the word \"hello\" \n"
      ],
      "metadata": {
        "id": "dcVWB-AS5Gb7"
      }
    },
    {
      "cell_type": "code",
      "source": [
        "lst=[1,2,[3,4],[5,[100,200,['hello']],23,11],1,7]"
      ],
      "metadata": {
        "id": "6C3Tk0bB16_D"
      },
      "execution_count": 8,
      "outputs": []
    },
    {
      "cell_type": "code",
      "source": [
        "print(lst[3][1][2])"
      ],
      "metadata": {
        "colab": {
          "base_uri": "https://localhost:8080/"
        },
        "id": "O88dnUBL2EiP",
        "outputId": "402bc3e8-49ba-4250-bcb5-6cd99ae10f26"
      },
      "execution_count": 9,
      "outputs": [
        {
          "output_type": "stream",
          "name": "stdout",
          "text": [
            "['hello']\n"
          ]
        }
      ]
    },
    {
      "cell_type": "code",
      "source": [
        "d = {'k1':[1,2,3,{'tricky':['oh','man','inception',{'target':[1,2,3,'hello']}]}]}"
      ],
      "metadata": {
        "id": "Csz02iUO2G8i"
      },
      "execution_count": 12,
      "outputs": []
    },
    {
      "cell_type": "code",
      "source": [
        "print(d[\"k1\"][3][\"tricky\"][3]['target'][3])"
      ],
      "metadata": {
        "colab": {
          "base_uri": "https://localhost:8080/"
        },
        "id": "i1YDr8-s2U_q",
        "outputId": "29a978c8-92d8-44fb-fe14-2a72a44e2218"
      },
      "execution_count": 13,
      "outputs": [
        {
          "output_type": "stream",
          "name": "stdout",
          "text": [
            "hello\n"
          ]
        }
      ]
    },
    {
      "cell_type": "markdown",
      "source": [
        "What is the main difference between a tuple and a list? \n"
      ],
      "metadata": {
        "id": "el7u4qHE5L8G"
      }
    },
    {
      "cell_type": "code",
      "source": [
        "The list is mutable, whereas the tuple in immutable \n"
      ],
      "metadata": {
        "id": "Kt5dBVzY5LkK"
      },
      "execution_count": null,
      "outputs": []
    },
    {
      "cell_type": "markdown",
      "source": [
        "Create a function that grabs the email website domain from a string in the form: user@domain.com \n",
        "So for example, passing \"user@domain.com\" would return: domain.com \n"
      ],
      "metadata": {
        "id": "M1cR6ZB25QcA"
      }
    },
    {
      "cell_type": "code",
      "source": [
        "def domain(email): \n",
        " return email.split('@')[-1] \n",
        "domain(\"user@domain.com\") \n"
      ],
      "metadata": {
        "colab": {
          "base_uri": "https://localhost:8080/",
          "height": 35
        },
        "id": "YjMDpNRb2jV8",
        "outputId": "f275d36d-86e0-4d56-8623-3d24c1180539"
      },
      "execution_count": 14,
      "outputs": [
        {
          "output_type": "execute_result",
          "data": {
            "text/plain": [
              "'domain.com'"
            ],
            "application/vnd.google.colaboratory.intrinsic+json": {
              "type": "string"
            }
          },
          "metadata": {},
          "execution_count": 14
        }
      ]
    },
    {
      "cell_type": "markdown",
      "source": [
        "Create a basic function that returns True if the word 'dog' is contained in the input string. Don't worry about edge cases like a punctuation being attached to the word dog, but do account for capitalization. "
      ],
      "metadata": {
        "id": "qJDJ89P25S9v"
      }
    },
    {
      "cell_type": "code",
      "source": [
        "def check(word): \n",
        " for i in word.split(): \n",
        "   if i == \"dog\": \n",
        "      return True \n",
        "      return False \n",
        "check(\"I love my dog\")\n"
      ],
      "metadata": {
        "colab": {
          "base_uri": "https://localhost:8080/"
        },
        "id": "F2e54Dme2m26",
        "outputId": "0743706a-063a-4f4d-a90a-13662c898057"
      },
      "execution_count": 18,
      "outputs": [
        {
          "output_type": "execute_result",
          "data": {
            "text/plain": [
              "True"
            ]
          },
          "metadata": {},
          "execution_count": 18
        }
      ]
    },
    {
      "cell_type": "markdown",
      "source": [
        "Create a function that counts the number of times the word \"dog\" occurs in a string. Again ignore edge cases."
      ],
      "metadata": {
        "id": "TWd-km0m5VEQ"
      }
    },
    {
      "cell_type": "code",
      "source": [
        "def wordCount(word): \n",
        " count = 0 \n",
        " for i in word.split():\n",
        "   if i == 'dog': \n",
        "     count += 1 \n",
        "     print(\"Dog repeated \"+str(count)+\" times\") "
      ],
      "metadata": {
        "id": "CbIvTUuX2oop"
      },
      "execution_count": 25,
      "outputs": []
    },
    {
      "cell_type": "code",
      "source": [
        "wordCount(\"dog dog dog cat lion Dog DOG\") \n"
      ],
      "metadata": {
        "colab": {
          "base_uri": "https://localhost:8080/"
        },
        "id": "BTfps3Dh2wHi",
        "outputId": "c25963ff-1349-4c30-8a78-209543fedbba"
      },
      "execution_count": 26,
      "outputs": [
        {
          "output_type": "stream",
          "name": "stdout",
          "text": [
            "Dog repeated 1 times\n",
            "Dog repeated 2 times\n",
            "Dog repeated 3 times\n"
          ]
        }
      ]
    },
    {
      "cell_type": "markdown",
      "source": [
        "Problem \n",
        "You are driving a little too fast, and a police officer stops you. Write a function to return one of 3 possible results: \"No ticket\", \"Small ticket\", or \"Big Ticket\". If your speed is 60 or less, the result is \"No Ticket\". If speed is between 61 and 80 inclusive, the result is \"Small Ticket\". If speed is 81 or more, the result is \"Big Ticket\". Unless it is your birthday (encoded as a boolean value in the parameters of the function) -- on your birthday, your speed can be 5 higher in all cases. \n"
      ],
      "metadata": {
        "id": "qNb7GXLw5XWm"
      }
    },
    {
      "cell_type": "code",
      "source": [
        "def caught_speeding(speed, is_birthday): \n",
        "  \n",
        " if is_birthday: \n",
        "   speeding = speed - 5 \n",
        " else: \n",
        "   speeding = speed \n",
        " if speeding > 80: \n",
        "   return 'Big Ticket' \n",
        " elif speeding > 60: \n",
        "   return 'Small Ticket' \n",
        " else: \n",
        "   return 'No Ticket' \n",
        "\n"
      ],
      "metadata": {
        "id": "IZftpN_q4CDm"
      },
      "execution_count": 28,
      "outputs": []
    },
    {
      "cell_type": "code",
      "source": [
        "caught_speeding(87,False) \n"
      ],
      "metadata": {
        "colab": {
          "base_uri": "https://localhost:8080/",
          "height": 35
        },
        "id": "rKKhx0ut4F2r",
        "outputId": "32b0722e-6311-4c1d-8565-c81030ac3750"
      },
      "execution_count": 29,
      "outputs": [
        {
          "output_type": "execute_result",
          "data": {
            "text/plain": [
              "'Big Ticket'"
            ],
            "application/vnd.google.colaboratory.intrinsic+json": {
              "type": "string"
            }
          },
          "metadata": {},
          "execution_count": 29
        }
      ]
    },
    {
      "cell_type": "code",
      "source": [
        "caught_speeding(65,False) \n"
      ],
      "metadata": {
        "colab": {
          "base_uri": "https://localhost:8080/",
          "height": 35
        },
        "id": "hnanzo0L4OL_",
        "outputId": "ec4a5b1a-4635-42e5-f723-a0e3d06bb858"
      },
      "execution_count": 30,
      "outputs": [
        {
          "output_type": "execute_result",
          "data": {
            "text/plain": [
              "'Small Ticket'"
            ],
            "application/vnd.google.colaboratory.intrinsic+json": {
              "type": "string"
            }
          },
          "metadata": {},
          "execution_count": 30
        }
      ]
    },
    {
      "cell_type": "markdown",
      "source": [
        "Create an employee list with basic salary values(at least 5 values for 5 employees) and using a for loop retreive each employee salary and calculate total salary expenditure. \n"
      ],
      "metadata": {
        "id": "cMxQlsol5hKd"
      }
    },
    {
      "cell_type": "code",
      "source": [
        "e = [[\"emp1\",[1325,4975,8660,6037,8308]],\n",
        "     [\"emp2\",[5678,5847,3375,3415,6640]],\n",
        "     [\"emp3\",[1806,5144,8340,1253,6667]],\n",
        "     [\"emp4\",[8381,7678,8599,3629,9345]],\n",
        "     [\"emp5\",[7066,1307,3023,6295,2046]]]"
      ],
      "metadata": {
        "id": "VVl8_i5j4PvR"
      },
      "execution_count": 35,
      "outputs": []
    },
    {
      "cell_type": "code",
      "source": [
        "total = 0 \n",
        "for i in range(len(e)): \n",
        "  for j in e[i][1]: \n",
        "    total += j \n",
        "    print(str(e[i][0])+\" earns \"+str(total)) \n"
      ],
      "metadata": {
        "colab": {
          "base_uri": "https://localhost:8080/"
        },
        "id": "xjkWLaUm4SEN",
        "outputId": "f5b0b64b-bdbd-4f07-868b-fe1e56bd3fdd"
      },
      "execution_count": 37,
      "outputs": [
        {
          "output_type": "stream",
          "name": "stdout",
          "text": [
            "emp1 earns 1325\n",
            "emp1 earns 6300\n",
            "emp1 earns 14960\n",
            "emp1 earns 20997\n",
            "emp1 earns 29305\n",
            "emp2 earns 34983\n",
            "emp2 earns 40830\n",
            "emp2 earns 44205\n",
            "emp2 earns 47620\n",
            "emp2 earns 54260\n",
            "emp3 earns 56066\n",
            "emp3 earns 61210\n",
            "emp3 earns 69550\n",
            "emp3 earns 70803\n",
            "emp3 earns 77470\n",
            "emp4 earns 85851\n",
            "emp4 earns 93529\n",
            "emp4 earns 102128\n",
            "emp4 earns 105757\n",
            "emp4 earns 115102\n",
            "emp5 earns 122168\n",
            "emp5 earns 123475\n",
            "emp5 earns 126498\n",
            "emp5 earns 132793\n",
            "emp5 earns 134839\n"
          ]
        }
      ]
    },
    {
      "cell_type": "code",
      "source": [
        "print(e)"
      ],
      "metadata": {
        "colab": {
          "base_uri": "https://localhost:8080/"
        },
        "id": "92Li2CpX4mTE",
        "outputId": "5e8671c6-a6af-4f41-ea53-d38760c8559f"
      },
      "execution_count": 39,
      "outputs": [
        {
          "output_type": "stream",
          "name": "stdout",
          "text": [
            "[['emp1', [1325, 4975, 8660, 6037, 8308]], ['emp2', [5678, 5847, 3375, 3415, 6640]], ['emp3', [1806, 5144, 8340, 1253, 6667]], ['emp4', [8381, 7678, 8599, 3629, 9345]], ['emp5', [7066, 1307, 3023, 6295, 2046]]]\n"
          ]
        }
      ]
    },
    {
      "cell_type": "markdown",
      "source": [
        "Create two dictionaries in Python: \n",
        "First one to contain fields as Empid, Empname, Basicpay \n",
        "Second dictionary to contain fields as DeptName, DeptId. \n",
        "Combine both dictionaries. \n"
      ],
      "metadata": {
        "id": "NY8TitJY5lp4"
      }
    },
    {
      "cell_type": "code",
      "source": [
        "dic1 = {\"Empid\": 123, \"Empname\": \"dan\", \"Basicpay\": 7500} \n",
        "dic2 = {\"DeptName\": \"CSE\", \"Deptid\": 4500} \n",
        "dic3 = {**dic1, **dic2} \n",
        "print(dic3) \n"
      ],
      "metadata": {
        "colab": {
          "base_uri": "https://localhost:8080/"
        },
        "id": "dtW60QEb4qiZ",
        "outputId": "695f4a68-2c7a-4b5c-9b5b-b5b67192a735"
      },
      "execution_count": 41,
      "outputs": [
        {
          "output_type": "stream",
          "name": "stdout",
          "text": [
            "{'Empid': 123, 'Empname': 'dan', 'Basicpay': 7500, 'DeptName': 'CSE', 'Deptid': 4500}\n"
          ]
        }
      ]
    },
    {
      "cell_type": "code",
      "source": [],
      "metadata": {
        "id": "2KUWtvM54u-b"
      },
      "execution_count": null,
      "outputs": []
    }
  ]
}